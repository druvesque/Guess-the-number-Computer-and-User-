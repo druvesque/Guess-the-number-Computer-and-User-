{
 "cells": [
  {
   "cell_type": "code",
   "execution_count": 1,
   "id": "ca6334a4",
   "metadata": {},
   "outputs": [],
   "source": [
    "import random"
   ]
  },
  {
   "cell_type": "code",
   "execution_count": 6,
   "id": "d4f3c586",
   "metadata": {},
   "outputs": [],
   "source": [
    "#Computer sets a number and we guess it\n",
    "def guess(x):\n",
    "    random_number = random.randint(1,x)\n",
    "    guess = 0\n",
    "    while(guess != random_number):\n",
    "        guess = int(input(f\"Guess a number between 1 and {x}: \"))\n",
    "        if (guess<random_number):\n",
    "            print(\"Sorry, guess again. Too low.\")\n",
    "        elif (guess>random_number):\n",
    "            print(\"Sorry, guess again. Too high.\")\n",
    "    print(f\"Congrats, you've guessed the correct number {random_number}\")"
   ]
  },
  {
   "cell_type": "code",
   "execution_count": 9,
   "id": "2f236c43",
   "metadata": {},
   "outputs": [
    {
     "name": "stdout",
     "output_type": "stream",
     "text": [
      "Guess a number between 1 and 20: 6\n",
      "Sorry, guess again. Too low.\n",
      "Guess a number between 1 and 20: 8\n",
      "Sorry, guess again. Too low.\n",
      "Guess a number between 1 and 20: 9\n",
      "Sorry, guess again. Too low.\n",
      "Guess a number between 1 and 20: 13\n",
      "Sorry, guess again. Too low.\n",
      "Guess a number between 1 and 20: 15\n",
      "Sorry, guess again. Too high.\n",
      "Guess a number between 1 and 20: 14\n",
      "Congrats, you've guessed the correct number 14\n"
     ]
    }
   ],
   "source": [
    "guess(20)"
   ]
  },
  {
   "cell_type": "code",
   "execution_count": 10,
   "id": "aee09836",
   "metadata": {},
   "outputs": [],
   "source": [
    "#User sets a number and computer guesses it\n",
    "def computer_guess(y):\n",
    "    low = 1\n",
    "    high = y\n",
    "    feedback = ''\n",
    "    while feedback != 'c':\n",
    "        if low != high:\n",
    "            comp_guess = random.randint(low,high)\n",
    "        else:\n",
    "            comp_guess = low\n",
    "        feedback = input(f\"Is the {comp_guess} too high(h), too low(l) or correct(c)?\").lower()\n",
    "        if feedback == 'h':\n",
    "            high = comp_guess - 1\n",
    "        elif feedback == 'l':\n",
    "            low = comp_guess + 1\n",
    "    print(f\"Computer guessed your number, {comp_guess}, correctly.\")"
   ]
  },
  {
   "cell_type": "code",
   "execution_count": 11,
   "id": "b0fa835d",
   "metadata": {},
   "outputs": [
    {
     "name": "stdout",
     "output_type": "stream",
     "text": [
      "Is the 9 too high(h), too low(l) or correct(c)?h\n",
      "Is the 7 too high(h), too low(l) or correct(c)?h\n",
      "Is the 3 too high(h), too low(l) or correct(c)?l\n",
      "Is the 6 too high(h), too low(l) or correct(c)?c\n",
      "Computer guessed your number, 6, correctly.\n"
     ]
    }
   ],
   "source": [
    "computer_guess(10)"
   ]
  }
 ],
 "metadata": {
  "kernelspec": {
   "display_name": "Python 3 (ipykernel)",
   "language": "python",
   "name": "python3"
  },
  "language_info": {
   "codemirror_mode": {
    "name": "ipython",
    "version": 3
   },
   "file_extension": ".py",
   "mimetype": "text/x-python",
   "name": "python",
   "nbconvert_exporter": "python",
   "pygments_lexer": "ipython3",
   "version": "3.10.9"
  }
 },
 "nbformat": 4,
 "nbformat_minor": 5
}
